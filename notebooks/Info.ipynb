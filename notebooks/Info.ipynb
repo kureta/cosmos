{
 "cells": [
  {
   "cell_type": "code",
   "execution_count": 1,
   "id": "407da4f8-63b7-4e6e-93fb-f0b30c9cad20",
   "metadata": {},
   "outputs": [],
   "source": [
    "import torch"
   ]
  },
  {
   "cell_type": "code",
   "execution_count": 2,
   "id": "9ecdce5f-cb93-4d78-a218-6984e2c6663f",
   "metadata": {},
   "outputs": [
    {
     "name": "stdout",
     "output_type": "stream",
     "text": [
      "Hello from cosmos!\n",
      "PyTorch version: 2.5.1+cu124\n",
      "CUDA available: True\n",
      "CUDA version: 12.4\n",
      "cuDNN version: 90100\n",
      "CUDA device count: 1\n",
      "CUDA device name: NVIDIA GeForce RTX 2080 Ti\n",
      "CUDA device capability: (7, 5)\n",
      "CUDA device memory: 10.56719970703125 GB\n"
     ]
    }
   ],
   "source": [
    "print(\"Hello from cosmos!\")\n",
    "print(\"PyTorch version:\", torch.__version__)\n",
    "print(\"CUDA available:\", torch.cuda.is_available())\n",
    "print(\"CUDA version:\", torch.version.cuda)\n",
    "print(\"cuDNN version:\", torch.backends.cudnn.version())\n",
    "print(\"CUDA device count:\", torch.cuda.device_count())\n",
    "print(\"CUDA device name:\", torch.cuda.get_device_name(0))\n",
    "print(\"CUDA device capability:\", torch.cuda.get_device_capability(0))\n",
    "print(\n",
    "    \"CUDA device memory:\",\n",
    "    torch.cuda.get_device_properties(0).total_memory / 1024**3,\n",
    "    \"GB\",\n",
    ")"
   ]
  },
  {
   "cell_type": "code",
   "execution_count": null,
   "id": "faf32655-036c-435c-a349-884fd342d5d9",
   "metadata": {},
   "outputs": [],
   "source": []
  }
 ],
 "metadata": {
  "kernelspec": {
   "display_name": "Python 3 (ipykernel)",
   "language": "python",
   "name": "python3"
  },
  "language_info": {
   "codemirror_mode": {
    "name": "ipython",
    "version": 3
   },
   "file_extension": ".py",
   "mimetype": "text/x-python",
   "name": "python",
   "nbconvert_exporter": "python",
   "pygments_lexer": "ipython3",
   "version": "3.12.7"
  }
 },
 "nbformat": 4,
 "nbformat_minor": 5
}
